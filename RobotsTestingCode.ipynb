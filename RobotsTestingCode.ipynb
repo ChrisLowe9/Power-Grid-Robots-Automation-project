{
 "cells": [
  {
   "cell_type": "markdown",
   "id": "7bf63201c5fcdfbe",
   "metadata": {},
   "source": [
    "Lets go through the steps that the robot takes during play.\n",
    "\n",
    "Turn order:\n",
    "(1) Determine the order of play - the robot doesn't need to know this until we start coding some AI decision making.\n",
    "\n",
    "(2) Auction power plants\n",
    "    Robot needs to know\n",
    "     - what power plants are available\n",
    "     - what power plants it has\n",
    "     - what power plants other players have chosen for bidding\n",
    "     - how many cities it has\n",
    "    Robot will decide\n",
    "     - if it needs to buy a new power plant or not\n",
    "     - which power plant it will choose for bidding on\n",
    "     - if it will join in the public bidding process\n",
    "     - what the maximum it will pay for the power plant is\n",
    "     - which power plant to discard if necessary\n",
    "    Robot will update\n",
    "     - what power plants it has\n",
    "        - how many spaces it has for resources\n",
    "     - how its resources are distributed\n",
    "        - do any resources need throwing away\n",
    "     - how much money it has\n",
    "\n",
    "(3) Buying resources\n",
    "    Robot needs to know\n",
    "     - what space it has for resources\n",
    "     - what resources it has\n",
    "     - the cost of available resources\n",
    "    Robot will decide\n",
    "     - what resources it will buy\n",
    "    Robot will update\n",
    "     - what resources it has\n",
    "     - where those resources are stored\n",
    "     - how much money it has\n",
    "\n",
    "(4) Building\n",
    "    Robot needs to know\n",
    "     - what the map is\n",
    "        - what cities there are\n",
    "        - what the connection costs are\n",
    "     - what step we are in (step 1, 2 or 3)\n",
    "     - what cities it has built on\n",
    "     - what cities other players have built on\n",
    "        - how many people have built there\n",
    "        - what spaces are free, and their cost\n",
    "     Robot will decide\n",
    "      - if it will build a city\n",
    "      - where to build the city\n",
    "      - if it has enough money to build another city\n",
    "     Robot will update\n",
    "      - how much money it has\n",
    "      - how many cities it has\n",
    "        - where those cities are\n",
    "\n",
    "(5) Bureaucracy\n",
    "    Robot needs to know\n",
    "     - how many cities it has built on\n",
    "     - how many cities its power plants can supply\n",
    "     - what resources it has\n",
    "    Robot will decide\n",
    "     - which resources to use to power the most cities\n",
    "    The robot will then update\n",
    "     - how much money it has\n",
    "     - what resources it has\n",
    "    \n"
   ]
  },
  {
   "cell_type": "markdown",
   "id": "c8e78669715ba1c3",
   "metadata": {},
   "source": [
    "Variables and databases I need:\n",
    "- a representation of the map\n",
    "    - the cities on the map\n",
    "    - the connections between the cities\n",
    "    - the regions on the map\n",
    "- the resource market\n",
    "- the power plants\n",
    "- a list of money earned depending on cities powered\n",
    "\n",
    "- money\n",
    "- each type of resource\n",
    "- a list of power plants owned\n",
    "- a list of cities in the robot's network"
   ]
  },
  {
   "cell_type": "code",
   "execution_count": 2,
   "id": "74cd89062475ebbb",
   "metadata": {
    "ExecuteTime": {
     "end_time": "2023-11-04T22:10:53.647600400Z",
     "start_time": "2023-11-04T22:10:53.637620700Z"
    }
   },
   "outputs": [],
   "source": [
    "# What libraries / functions do we need to import? Put them in here.\n",
    "\n",
    "import pyodbc\n",
    "from pyodbc import Error\n",
    "\n",
    "from databaseConnection import create_db_connection, read_query\n",
    "\n"
   ]
  },
  {
   "cell_type": "markdown",
   "id": "be542e6759f169e5",
   "metadata": {},
   "source": []
  },
  {
   "cell_type": "code",
   "execution_count": 1,
   "id": "c563907825c6c707",
   "metadata": {
    "ExecuteTime": {
     "end_time": "2023-11-03T22:03:37.655978300Z",
     "start_time": "2023-11-03T22:03:37.644936100Z"
    }
   },
   "outputs": [],
   "source": [
    "# Set the starting variables\n",
    "\n",
    "robotMoney = 50\n",
    "mapName = \"Japan\"\n",
    "powerPlantDeck = \"standard\"\n",
    "step = 1\n",
    "\n",
    "# Database access details:\n",
    "user_name = input(\"Please give the user name for the database access.\")\n",
    "user_password = input(f\"Please give the password for {user_name}\")\n",
    "\n",
    "\n",
    "# We will also need to set the robot options, but we'll code those later on"
   ]
  },
  {
   "cell_type": "code",
   "execution_count": 3,
   "id": "13f0b956e69f7b60",
   "metadata": {
    "ExecuteTime": {
     "end_time": "2023-11-03T22:03:42.343817100Z",
     "start_time": "2023-11-03T22:03:40.674113800Z"
    }
   },
   "outputs": [
    {
     "name": "stdout",
     "output_type": "stream",
     "text": [
      "What should we call this robot?Bob\n",
      "Bob has: Money = 50 and these powerplants: []\n"
     ]
    }
   ],
   "source": [
    "# Actually, we should initialise the instance of the Robot, so that it has money for the auction phase.\n",
    "\n",
    "from robotClass import Robot\n",
    "\n",
    "robot = Robot(robotMoney)\n",
    "\n",
    "Robot.setRobotName(robot)\n",
    "\n",
    "print(robot)\n"
   ]
  },
  {
   "cell_type": "code",
   "execution_count": 4,
   "id": "165a85c897f8dd66",
   "metadata": {
    "ExecuteTime": {
     "end_time": "2023-11-03T22:03:59.330809500Z",
     "start_time": "2023-11-03T22:03:46.637967600Z"
    }
   },
   "outputs": [
    {
     "name": "stdout",
     "output_type": "stream",
     "text": [
      "Market size is 8, because it is step 1.\n",
      "What is the cost of the next power plant in the market?1\n",
      "What is the cost of the next power plant in the market?2\n",
      "What is the cost of the next power plant in the market?3\n",
      "What is the cost of the next power plant in the market?6\n",
      "What is the cost of the next power plant in the market?8\n",
      "What is the cost of the next power plant in the market?11\n",
      "What is the cost of the next power plant in the market?16\n",
      "What is the cost of the next power plant in the market?33\n"
     ]
    }
   ],
   "source": [
    "# Phase 2: Power plant auction - create the power plant market\n",
    "\n",
    "from powerPlants import PowerPlant, createMarket\n",
    "\n",
    "# We ask the user to tell us the costs of the current power plants in the market:\n",
    "listOfPowerPlants = createMarket(step)"
   ]
  },
  {
   "cell_type": "code",
   "execution_count": 5,
   "id": "55fa09fa3ddbf334",
   "metadata": {
    "ExecuteTime": {
     "end_time": "2023-11-03T21:16:20.211471100Z",
     "start_time": "2023-11-03T21:16:20.176824100Z"
    }
   },
   "outputs": [
    {
     "name": "stdout",
     "output_type": "stream",
     "text": [
      "MySQL Database connection successful\n",
      "[1, 2, 3, 6, 8, 11, 16, 33]\n",
      "Cost: 2, Type: Oil, Resource: oil, Resource2: None, PowerCost: 2, CitiesPowered: 1\n"
     ]
    }
   ],
   "source": [
    "\n",
    "power_plants = PowerPlant.updatePowerPlantMarket(user_name, user_password, listOfPowerPlants)\n",
    "\n",
    "# We print some details to see what we have got.\n",
    "print(listOfPowerPlants)\n",
    "print(power_plants[1])\n"
   ]
  },
  {
   "cell_type": "code",
   "execution_count": 14,
   "id": "f9cb72fcd211bbfc",
   "metadata": {
    "ExecuteTime": {
     "end_time": "2023-11-03T22:04:18.005406700Z",
     "start_time": "2023-11-03T22:04:08.905703500Z"
    }
   },
   "outputs": [
    {
     "name": "stdout",
     "output_type": "stream",
     "text": [
      "Is it my turn to choose a power plant to bid on? Y or N?n\n",
      "The current market is [6, 8, 11, 28]\n",
      "I won't bid, so just tell me which power plant was bought. 6\n",
      "What is the cost of the new power plant you have drawn? 40\n",
      "Power plant 40 was drawn and the current market is [8, 11, 28, 28]\n",
      "Is it now my turn to choose a power plant to bid on? Y or N? y\n",
      "I bid 11 electros for power plant 11.\n",
      "Does anyone else want to bid on power plant 11? Y or N? n\n",
      "Ok, I will buy power plant 11 for 11 electros\n",
      "I have spent 11 electros, and now I have 10 electros.\n",
      "I now have these power plants: [6, 8, 11]\n"
     ]
    }
   ],
   "source": [
    "# Now we will bid on some power plants\n",
    "# We will start with the robot rule 'second smallest number'\n",
    "\n",
    "# If I have a mix of 'print' and 'input' messages, the printed messages appear below this block, while the input\n",
    "# messages appear in a box. This is confusing and hides some of the information I am trying to communicate.\n",
    "# BUT when I view the Jypter notebook as a webpage, that problem goes away....\n",
    "\n",
    "# The robot will ask if it is their turn.\n",
    "myTurn = input(\"Is it my turn to choose a power plant to bid on? Y or N?\")\n",
    "\n",
    "didIbuyYet = \"n\"\n",
    "\n",
    "# If it is step 1 or 2, we need to split the existing market into the current and future market.\n",
    "# If it is step 3, then all 6 power plants are in the current market\n",
    "# Only the current market is of interest to the robot.\n",
    "\n",
    "def createCurrentMarket(listOfPowerPlants):    \n",
    "    if step == 3:\n",
    "        currentMarket = listOfPowerPlants\n",
    "    else:\n",
    "        listOfPowerPlants.sort()\n",
    "        currentMarket = listOfPowerPlants[:-4]\n",
    "        \n",
    "    return currentMarket\n",
    "\n",
    "currentMarket = createCurrentMarket(listOfPowerPlants)\n",
    "print(f\"The current market is {currentMarket}\")\n",
    "\n",
    "# I should put in a comment as to why I am doing this here.\n",
    "# What am I doing here????\n",
    "# I don't think I need this - but I will just comment it out.\n",
    "# currentMarketDetails = PowerPlant.updatePowerPlantMarket(user_name, user_password, currentMarket)\n",
    "\n",
    "# If it is not the robot's turn to choose, then for this robot we just need to update\n",
    "# the market. For other versions, we will need to check what power plant is being bid on\n",
    "# and what the bids are - but that is for later on.\n",
    "\n",
    "while didIbuyYet == 'n':\n",
    "\n",
    "    while myTurn.lower() == \"n\":\n",
    "        boughtPowerPlant = input(\"I won't bid, so just tell me which power plant was bought. \")\n",
    "        listOfPowerPlants.remove(int(boughtPowerPlant))\n",
    "        # This code is repeated in the block below, so we could hive it off as a function\n",
    "        # when we refactor.\n",
    "        newPowerPlant = int(input(\"What is the cost of the new power plant you have drawn? \"))\n",
    "        listOfPowerPlants.append(newPowerPlant)\n",
    "        currentMarket = createCurrentMarket(listOfPowerPlants)\n",
    "        print(f\"Power plant {newPowerPlant} was drawn and the current market is {currentMarket}\")\n",
    "        myTurn = input(\"Is it now my turn to choose a power plant to bid on? Y or N? \")\n",
    "    \n",
    "    # If it is the robot's turn to choose, then they will keep on choosing until they buy something.\n",
    "    # So we only care if 'myTurn' is 'n' - otherwise we just run this block.\n",
    "    choice = currentMarket[1]\n",
    "    print(f\"I bid {choice} electros for power plant {choice}.\")\n",
    "    otherBid = input(f\"Does anyone else want to bid on power plant {choice}? Y or N? \")\n",
    "    if otherBid.lower() == \"y\":\n",
    "        print(f\"Ok, I pass on {choice}.\")\n",
    "        listOfPowerPlants.remove(choice)\n",
    "        # The next 4 lines are a repeat of lines above, so we can hive it off as a function later.\n",
    "        newPowerPlant = int(input(\"What is the cost of the new power plant you have drawn? \"))\n",
    "        listOfPowerPlants.append(newPowerPlant)\n",
    "        currentMarket = createCurrentMarket(listOfPowerPlants)\n",
    "        print(f\"Power plant {newPowerPlant} was drawn and the current market is {currentMarket}\")\n",
    "    elif otherBid.lower() == \"n\":\n",
    "        didIbuyYet = 'y'\n",
    "        print(f\"Ok, I will buy power plant {choice} for {choice} electros\")\n",
    "\n",
    "    \n",
    "\n",
    "\n",
    "Robot.deductRobotMoney(robot, choice)\n",
    "print(f\"I have spent {choice} electros, and now I have {robot.money} electros.\")\n",
    "Robot.addPowerplant(robot, choice)\n",
    "print(f\"I now have these power plants: {robot.powerPlants}\")\n",
    "    \n",
    "    \n",
    "\n"
   ]
  },
  {
   "cell_type": "code",
   "execution_count": null,
   "id": "da6c14deb1122e48",
   "metadata": {},
   "outputs": [],
   "source": [
    "# Now that the robot has a power plant, it needs to decide what resources to buy.\n",
    "# For now it will just buy basic resources to power the power plant for 1 turn.\n",
    "# It needs to know:\n",
    "# What is the price point of all the resources\n",
    "# What resources it already has\n",
    "# "
   ]
  },
  {
   "cell_type": "code",
   "execution_count": null,
   "id": "6c74efa9",
   "metadata": {},
   "outputs": [],
   "source": []
  }
 ],
 "metadata": {
  "kernelspec": {
   "display_name": "Python 3 (ipykernel)",
   "language": "python",
   "name": "python3"
  },
  "language_info": {
   "codemirror_mode": {
    "name": "ipython",
    "version": 3
   },
   "file_extension": ".py",
   "mimetype": "text/x-python",
   "name": "python",
   "nbconvert_exporter": "python",
   "pygments_lexer": "ipython3",
   "version": "3.11.5"
  }
 },
 "nbformat": 4,
 "nbformat_minor": 5
}
