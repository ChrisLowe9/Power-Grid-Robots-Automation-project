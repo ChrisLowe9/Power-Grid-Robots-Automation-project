{
 "cells": [
  {
   "cell_type": "markdown",
   "source": [
    "Lets go through the steps that the robot takes during play.\n",
    "\n",
    "Turn order:\n",
    "(1) Determine the order of play - the robot doesn't need to know this until we start coding some AI decision making.\n",
    "\n",
    "(2) Auction power plants\n",
    "    Robot needs to know\n",
    "     - what power plants are available\n",
    "     - what power plants it has\n",
    "     - what power plants other players have chosen for bidding\n",
    "     - how many cities it has\n",
    "    Robot will decide\n",
    "     - if it needs to buy a new power plant or not\n",
    "     - which power plant it will choose for bidding on\n",
    "     - if it will join in the public bidding process\n",
    "     - what the maximum it will pay for the power plant is\n",
    "     - which power plant to discard if necessary\n",
    "    Robot will update\n",
    "     - what power plants it has\n",
    "        - how many spaces it has for resources\n",
    "     - how its resources are distributed\n",
    "        - do any resources need throwing away\n",
    "     - how much money it has\n",
    "\n",
    "(3) Buying resources\n",
    "    Robot needs to know\n",
    "     - what space it has for resources\n",
    "     - what resources it has\n",
    "     - the cost of available resources\n",
    "    Robot will decide\n",
    "     - what resources it will buy\n",
    "    Robot will update\n",
    "     - what resources it has\n",
    "     - where those resources are stored\n",
    "     - how much money it has\n",
    "\n",
    "(4) Building\n",
    "    Robot needs to know\n",
    "     - what the map is\n",
    "        - what cities there are\n",
    "        - what the connection costs are\n",
    "     - what step we are in (step 1, 2 or 3)\n",
    "     - what cities it has built on\n",
    "     - what cities other players have built on\n",
    "        - how many people have built there\n",
    "        - what spaces are free, and their cost\n",
    "     Robot will decide\n",
    "      - if it will build a city\n",
    "      - where to build the city\n",
    "      - if it has enough money to build another city\n",
    "     Robot will update\n",
    "      - how much money it has\n",
    "      - how many cities it has\n",
    "        - where those cities are\n",
    "\n",
    "(5) Bureaucracy\n",
    "    Robot needs to know\n",
    "     - how many cities it has built on\n",
    "     - how many cities its power plants can supply\n",
    "     - what resources it has\n",
    "    Robot will decide\n",
    "     - which resources to use to power the most cities\n",
    "    The robot will then update\n",
    "     - how much money it has\n",
    "     - what resources it has\n",
    "    \n"
   ],
   "metadata": {
    "collapsed": false
   },
   "id": "7bf63201c5fcdfbe"
  },
  {
   "cell_type": "markdown",
   "source": [
    "Variables and databases I need:\n",
    "- a representation of the map\n",
    "    - the cities on the map\n",
    "    - the connections between the cities\n",
    "    - the regions on the map\n",
    "- the resource market\n",
    "- the power plants\n",
    "- a list of money earned depending on cities powered\n",
    "\n",
    "- money\n",
    "- each type of resource\n",
    "- a list of power plants owned\n",
    "- a list of cities in the robot's network"
   ],
   "metadata": {
    "collapsed": false
   },
   "id": "c8e78669715ba1c3"
  },
  {
   "cell_type": "code",
   "execution_count": 1,
   "outputs": [],
   "source": [
    "# What libraries / functions do we need to import? Put them in here.\n",
    "\n",
    "import mysql.connector\n",
    "from mysql.connector import Error\n",
    "\n",
    "from databaseConnection import create_db_connection, read_query\n"
   ],
   "metadata": {
    "collapsed": false,
    "ExecuteTime": {
     "end_time": "2023-10-19T20:06:19.207232Z",
     "start_time": "2023-10-19T20:06:19.128675100Z"
    }
   },
   "id": "74cd89062475ebbb"
  },
  {
   "cell_type": "markdown",
   "source": [],
   "metadata": {
    "collapsed": false
   },
   "id": "be542e6759f169e5"
  },
  {
   "cell_type": "code",
   "execution_count": null,
   "outputs": [],
   "source": [
    "# Set the starting variables\n",
    "\n",
    "robotMoney = 50\n",
    "mapName = \"Japan\"\n",
    "powerPlantDeck = \"standard\"\n",
    "\n",
    "# We will also need to set the robot options, but we'll code those later on"
   ],
   "metadata": {
    "collapsed": false
   },
   "id": "c563907825c6c707"
  },
  {
   "cell_type": "code",
   "execution_count": null,
   "outputs": [],
   "source": [
    "# Power plant auction\n",
    "# I have a database - 'powerplants' - on my mysql server. \n",
    "\n"
   ],
   "metadata": {
    "collapsed": false
   },
   "id": "55fa09fa3ddbf334"
  }
 ],
 "metadata": {
  "kernelspec": {
   "display_name": "Python 3",
   "language": "python",
   "name": "python3"
  },
  "language_info": {
   "codemirror_mode": {
    "name": "ipython",
    "version": 2
   },
   "file_extension": ".py",
   "mimetype": "text/x-python",
   "name": "python",
   "nbconvert_exporter": "python",
   "pygments_lexer": "ipython2",
   "version": "2.7.6"
  }
 },
 "nbformat": 4,
 "nbformat_minor": 5
}
