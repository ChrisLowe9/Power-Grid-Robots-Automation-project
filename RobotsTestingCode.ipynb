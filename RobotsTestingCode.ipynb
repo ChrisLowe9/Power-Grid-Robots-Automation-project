{
 "cells": [
  {
   "cell_type": "markdown",
   "source": [
    "Lets go through the steps that the robot takes during play.\n",
    "\n",
    "Turn order:\n",
    "(1) Determine the order of play - the robot doesn't need to know this until we start coding some AI decision making.\n",
    "\n",
    "(2) Auction power plants\n",
    "    Robot needs to know\n",
    "     - what power plants are available\n",
    "     - what power plants it has\n",
    "     - what power plants other players have chosen for bidding\n",
    "     - how many cities it has\n",
    "    Robot will decide\n",
    "     - if it needs to buy a new power plant or not\n",
    "     - which power plant it will choose for bidding on\n",
    "     - if it will join in the public bidding process\n",
    "     - what the maximum it will pay for the power plant is\n",
    "     - which power plant to discard if necessary\n",
    "    Robot will update\n",
    "     - what power plants it has\n",
    "        - how many spaces it has for resources\n",
    "     - how its resources are distributed\n",
    "        - do any resources need throwing away\n",
    "     - how much money it has\n",
    "\n",
    "(3) Buying resources\n",
    "    Robot needs to know\n",
    "     - what space it has for resources\n",
    "     - what resources it has\n",
    "     - the cost of available resources\n",
    "    Robot will decide\n",
    "     - what resources it will buy\n",
    "    Robot will update\n",
    "     - what resources it has\n",
    "     - where those resources are stored\n",
    "     - how much money it has\n",
    "\n",
    "(4) Building\n",
    "    Robot needs to know\n",
    "     - what the map is\n",
    "        - what cities there are\n",
    "        - what the connection costs are\n",
    "     - what step we are in (step 1, 2 or 3)\n",
    "     - what cities it has built on\n",
    "     - what cities other players have built on\n",
    "        - how many people have built there\n",
    "        - what spaces are free, and their cost\n",
    "     Robot will decide\n",
    "      - if it will build a city\n",
    "      - where to build the city\n",
    "      - if it has enough money to build another city\n",
    "     Robot will update\n",
    "      - how much money it has\n",
    "      - how many cities it has\n",
    "        - where those cities are\n",
    "\n",
    "(5) Bureaucracy\n",
    "    Robot needs to know\n",
    "     - how many cities it has built on\n",
    "     - how many cities its power plants can supply\n",
    "     - what resources it has\n",
    "    Robot will decide\n",
    "     - which resources to use to power the most cities\n",
    "    The robot will then update\n",
    "     - how much money it has\n",
    "     - what resources it has\n",
    "    \n"
   ],
   "metadata": {
    "collapsed": false
   },
   "id": "7bf63201c5fcdfbe"
  },
  {
   "cell_type": "markdown",
   "source": [
    "Variables and databases I need:\n",
    "- a representation of the map\n",
    "    - the cities on the map\n",
    "    - the connections between the cities\n",
    "    - the regions on the map\n",
    "- the resource market\n",
    "- the power plants\n",
    "- a list of money earned depending on cities powered\n",
    "\n",
    "- money\n",
    "- each type of resource\n",
    "- a list of power plants owned\n",
    "- a list of cities in the robot's network"
   ],
   "metadata": {
    "collapsed": false
   },
   "id": "c8e78669715ba1c3"
  },
  {
   "cell_type": "code",
   "execution_count": null,
   "outputs": [],
   "source": [
    "# What libraries / functions do we need to import? Put them in here.\n",
    "\n",
    "import mysql.connector\n",
    "from mysql.connector import Error\n",
    "\n",
    "from databaseConnection import create_db_connection, read_query\n",
    "\n"
   ],
   "metadata": {
    "collapsed": false
   },
   "id": "74cd89062475ebbb"
  },
  {
   "cell_type": "markdown",
   "source": [],
   "metadata": {
    "collapsed": false
   },
   "id": "be542e6759f169e5"
  },
  {
   "cell_type": "code",
   "execution_count": 1,
   "outputs": [],
   "source": [
    "# Set the starting variables\n",
    "\n",
    "robotMoney = 50\n",
    "mapName = \"Japan\"\n",
    "powerPlantDeck = \"standard\"\n",
    "step = 1\n",
    "\n",
    "# Database access details:\n",
    "user_name = \"Chris\"\n",
    "user_password = input(\"Please give the password for Chris\")\n",
    "\n",
    "\n",
    "\n",
    "# We will also need to set the robot options, but we'll code those later on"
   ],
   "metadata": {
    "collapsed": false,
    "ExecuteTime": {
     "end_time": "2023-10-20T21:18:41.106291700Z",
     "start_time": "2023-10-20T21:18:41.085061900Z"
    }
   },
   "id": "c563907825c6c707"
  },
  {
   "cell_type": "code",
   "execution_count": 2,
   "outputs": [
    {
     "name": "stdout",
     "output_type": "stream",
     "text": [
      "Harry has: Money = 50\n"
     ]
    }
   ],
   "source": [
    "# Actually, we should initialise the instance of the Robot, so that it has money for the auction phase.\n",
    "\n",
    "from robotClass import Robot\n",
    "\n",
    "robot = Robot(robotMoney)\n",
    "\n",
    "Robot.setRobotName(robot)\n",
    "\n",
    "print(robot)\n"
   ],
   "metadata": {
    "collapsed": false,
    "ExecuteTime": {
     "end_time": "2023-10-20T21:18:47.078310200Z",
     "start_time": "2023-10-20T21:18:44.767871900Z"
    }
   },
   "id": "13f0b956e69f7b60"
  },
  {
   "cell_type": "code",
   "execution_count": 3,
   "outputs": [
    {
     "name": "stdout",
     "output_type": "stream",
     "text": [
      "Market size is 8, because it is step 1.\n",
      "MySQL Database connection successful\n",
      "[1, 2, 3, 4, 5, 6, 8, 11]\n",
      "Cost: 2, Type: Oil, Resource: oil, Resource2: None, PowerCost: 2, CitiesPowered: 1\n"
     ]
    }
   ],
   "source": [
    "# Phase 2: Power plant auction - create the power plant market\n",
    "\n",
    "from powerPlants import PowerPlant, createMarket\n",
    "\n",
    "# We ask the user to tell us the costs of the current power plants in the market:\n",
    "listOfPowerPlants = createMarket(step)\n",
    "\n",
    "power_plants = PowerPlant.updatePowerPlantMarket(user_name, user_password, listOfPowerPlants)\n",
    "\n",
    "# We print some details to see what we have got.\n",
    "print(listOfPowerPlants)\n",
    "print(power_plants[1])\n"
   ],
   "metadata": {
    "collapsed": false,
    "ExecuteTime": {
     "end_time": "2023-10-20T21:19:08.277743900Z",
     "start_time": "2023-10-20T21:18:52.686904500Z"
    }
   },
   "id": "55fa09fa3ddbf334"
  },
  {
   "cell_type": "code",
   "execution_count": 4,
   "outputs": [
    {
     "name": "stdout",
     "output_type": "stream",
     "text": [
      "The current market is [1, 2, 3, 4]\n",
      "MySQL Database connection successful\n",
      "I bid 2 electros for power plant 2.\n",
      "Ok, I pass on 2.\n",
      "The current market is [1, 3, 4, 5]\n",
      "I bid 3 electros for power plant 3.\n",
      "Ok, I pass on 3.\n",
      "The current market is [1, 4, 5, 6]\n",
      "I bid 4 electros for power plant 4.\n",
      "Ok, I pass on 4.\n",
      "The current market is [1, 5, 6, 8]\n",
      "I bid 5 electros for power plant 5.\n",
      "Ok, I will buy power plant 5 for 5 electros\n"
     ]
    }
   ],
   "source": [
    "# Now we will bid on some power plants\n",
    "# We will start with the robot rule 'second smallest number'\n",
    "\n",
    "# If I have a mix of 'print' and 'input' messages, the printed messages appear below this block, while the input\n",
    "# messages appear in a box. This is confusing and hides some of the information I am trying to communicate.\n",
    "# But if I switch it all to 'input' then no details are output below the block for me to read on later.\n",
    "# hmmm......\n",
    "\n",
    "# The robot will ask if it is their turn.\n",
    "myTurn = input(\"Is it my turn to choose a power plant to bid on? Y or N?\")\n",
    "\n",
    "# If it is step 1 or 2, we need to split the existing market into the current and future market.\n",
    "# If it is step 3, then all 6 power plants are in the current market\n",
    "# Only the current market is of interest to the robot.\n",
    "\n",
    "def createCurrentMarket(listOfPowerPlants):    \n",
    "    if step == 3:\n",
    "        currentMarket = listOfPowerPlants\n",
    "    else:\n",
    "        listOfPowerPlants.sort()\n",
    "        currentMarket = listOfPowerPlants[:-4]\n",
    "        \n",
    "    return currentMarket\n",
    "\n",
    "currentMarket = createCurrentMarket(listOfPowerPlants)\n",
    "print(f\"The current market is {currentMarket}\")\n",
    "\n",
    "currentMarketDetails = PowerPlant.updatePowerPlantMarket(user_name, user_password, currentMarket)\n",
    "\n",
    "if myTurn.lower() == \"y\":\n",
    "    choose = True\n",
    "    while choose:\n",
    "        choice = currentMarket[1]\n",
    "        print(f\"I bid {choice} electros for power plant {choice}.\")\n",
    "        otherBid = input(f\"My bid is {choice} electros. Does anyone else want to bid on power plant {choice}? Y or N?\")\n",
    "        if otherBid.lower() == \"y\":\n",
    "            print(f\"Ok, I pass on {choice}.\")\n",
    "            listOfPowerPlants.remove(choice)\n",
    "            newPowerPlant = int(input(\"What is the cost of the new power plant you have drawn?\"))\n",
    "            listOfPowerPlants.append(newPowerPlant)\n",
    "            currentMarket = createCurrentMarket(listOfPowerPlants)\n",
    "            print(f\"The current market is {currentMarket}\")\n",
    "        elif otherBid.lower() == \"n\":\n",
    "            choose = False\n",
    "            print(f\"Ok, I will buy power plant {choice} for {choice} electros\")\n",
    "            \n",
    "# we need to create a function for the robot that buys the power plant\n",
    "# that will reduce the money by the amount bid (which might not be the cost)\n",
    "# and it will invoke a function to add the power plant to the list of power plants\n"
   ],
   "metadata": {
    "collapsed": false,
    "ExecuteTime": {
     "end_time": "2023-10-20T21:20:11.995697200Z",
     "start_time": "2023-10-20T21:19:34.823714900Z"
    }
   },
   "id": "f9cb72fcd211bbfc"
  },
  {
   "cell_type": "code",
   "execution_count": null,
   "outputs": [],
   "source": [],
   "metadata": {
    "collapsed": false
   },
   "id": "da6c14deb1122e48"
  }
 ],
 "metadata": {
  "kernelspec": {
   "display_name": "Python 3",
   "language": "python",
   "name": "python3"
  },
  "language_info": {
   "codemirror_mode": {
    "name": "ipython",
    "version": 2
   },
   "file_extension": ".py",
   "mimetype": "text/x-python",
   "name": "python",
   "nbconvert_exporter": "python",
   "pygments_lexer": "ipython2",
   "version": "2.7.6"
  }
 },
 "nbformat": 4,
 "nbformat_minor": 5
}
