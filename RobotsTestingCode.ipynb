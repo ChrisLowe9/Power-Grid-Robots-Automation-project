{
 "cells": [
  {
   "cell_type": "markdown",
   "id": "7bf63201c5fcdfbe",
   "metadata": {},
   "source": [
    "Lets go through the steps that the robot takes during play.\n",
    "\n",
    "Turn order:\n",
    "(1) Determine the order of play - the robot doesn't need to know this until we start coding some AI decision making.\n",
    "\n",
    "(2) Auction power plants\n",
    "    Robot needs to know\n",
    "     - what power plants are available\n",
    "     - what power plants it has\n",
    "     - what power plants other players have chosen for bidding\n",
    "     - how many cities it has\n",
    "    Robot will decide\n",
    "     - if it needs to buy a new power plant or not\n",
    "     - which power plant it will choose for bidding on\n",
    "     - if it will join in the public bidding process\n",
    "     - what the maximum it will pay for the power plant is\n",
    "     - which power plant to discard if necessary\n",
    "    Robot will update\n",
    "     - what power plants it has\n",
    "        - how many spaces it has for resources\n",
    "     - how its resources are distributed\n",
    "        - do any resources need throwing away\n",
    "     - how much money it has\n",
    "\n",
    "(3) Buying resources\n",
    "    Robot needs to know\n",
    "     - what space it has for resources\n",
    "     - what resources it has\n",
    "     - the cost of available resources\n",
    "    Robot will decide\n",
    "     - what resources it will buy\n",
    "    Robot will update\n",
    "     - what resources it has\n",
    "     - where those resources are stored\n",
    "     - how much money it has\n",
    "\n",
    "(4) Building\n",
    "    Robot needs to know\n",
    "     - what the map is\n",
    "        - what cities there are\n",
    "        - what the connection costs are\n",
    "     - what step we are in (step 1, 2 or 3)\n",
    "     - what cities it has built on\n",
    "     - what cities other players have built on\n",
    "        - how many people have built there\n",
    "        - what spaces are free, and their cost\n",
    "     Robot will decide\n",
    "      - if it will build a city\n",
    "      - where to build the city\n",
    "      - if it has enough money to build another city\n",
    "     Robot will update\n",
    "      - how much money it has\n",
    "      - how many cities it has\n",
    "        - where those cities are\n",
    "\n",
    "(5) Bureaucracy\n",
    "    Robot needs to know\n",
    "     - how many cities it has built on\n",
    "     - how many cities its power plants can supply\n",
    "     - what resources it has\n",
    "    Robot will decide\n",
    "     - which resources to use to power the most cities\n",
    "    The robot will then update\n",
    "     - how much money it has\n",
    "     - what resources it has\n",
    "    \n"
   ]
  },
  {
   "cell_type": "markdown",
   "id": "c8e78669715ba1c3",
   "metadata": {},
   "source": [
    "Variables and databases I need:\n",
    "- a representation of the map\n",
    "    - the cities on the map\n",
    "    - the connections between the cities\n",
    "    - the regions on the map\n",
    "- the resource market\n",
    "- the power plants\n",
    "- a list of money earned depending on cities powered\n",
    "\n",
    "- money\n",
    "- each type of resource\n",
    "- a list of power plants owned\n",
    "- a list of cities in the robot's network"
   ]
  },
  {
   "cell_type": "code",
   "execution_count": 1,
   "id": "74cd89062475ebbb",
   "metadata": {
    "ExecuteTime": {
     "end_time": "2023-11-11T20:59:09.052239200Z",
     "start_time": "2023-11-11T20:59:09.038352800Z"
    },
    "scrolled": true
   },
   "outputs": [],
   "source": [
    "# What libraries / functions do we need to import? Put them in here.\n",
    "\n",
    "import pyodbc\n",
    "from pyodbc import Error\n",
    "\n",
    "from databaseConnection import create_db_connection, read_query\n",
    "\n",
    "from powerPlants import PowerPlant, createMarket\n",
    "\n",
    "from resourceMarket import resourceMarket\n",
    "\n",
    "# import pwinput as pin"
   ]
  },
  {
   "cell_type": "markdown",
   "id": "be542e6759f169e5",
   "metadata": {},
   "source": []
  },
  {
   "cell_type": "code",
   "execution_count": 2,
   "id": "c563907825c6c707",
   "metadata": {
    "ExecuteTime": {
     "start_time": "2023-11-09T18:44:34.421431800Z"
    }
   },
   "outputs": [
    {
     "name": "stdout",
     "output_type": "stream",
     "text": [
      "Please give the user name for the database access.Chris\n",
      "Please give the password for ChrisT3sting0ut@H0me\n"
     ]
    }
   ],
   "source": [
    "# Set the starting variables\n",
    "\n",
    "robotMoney = 50\n",
    "mapName = \"Japan\"\n",
    "powerPlantDeck = \"standard\"\n",
    "step = 1\n",
    "\n",
    "# Security note - public versions of this will not be asking for log in details to a database, as\n",
    "# the people using it wouldn't have those credentials. This is only for development purposes while\n",
    "# I play with the code.\n",
    "# Database access details:\n",
    "user_name = input(\"Please give the user name for the database access.\")\n",
    "user_password = input(f\"Please give the password for {user_name}\")\n",
    "\n",
    "# user_password = pin.pwinput(prompt = f\"Please give the password for {user_name}\", mask = '*')\n",
    "# This doesn't work with jupyter notebooks - the prompt appears but the cursor moves on to the next\n",
    "# cell and it is not possible to enter in the password. I have not found anything about this issue\n",
    "# on stackoverflow or by Googling - which surprises me.\n",
    "\n",
    "# We will also need to set the robot options, but we'll code those later on"
   ]
  },
  {
   "cell_type": "code",
   "execution_count": 3,
   "id": "13f0b956e69f7b60",
   "metadata": {
    "ExecuteTime": {
     "end_time": "2023-11-03T22:03:42.343817100Z",
     "start_time": "2023-11-03T22:03:40.674113800Z"
    }
   },
   "outputs": [
    {
     "name": "stdout",
     "output_type": "stream",
     "text": [
      "What should we call this robot?Harriet\n",
      "Harriet has: Money = 50 and these powerplants: []\n"
     ]
    }
   ],
   "source": [
    "# Actually, we should initialise the instance of the Robot, so that it has money for the auction phase.\n",
    "\n",
    "from robotClass import Robot\n",
    "\n",
    "robot = Robot(robotMoney)\n",
    "\n",
    "Robot.setRobotName(robot)\n",
    "\n",
    "print(robot)\n"
   ]
  },
  {
   "cell_type": "code",
   "execution_count": null,
   "id": "165a85c897f8dd66",
   "metadata": {
    "ExecuteTime": {
     "end_time": "2023-11-03T22:03:59.330809500Z",
     "start_time": "2023-11-03T22:03:46.637967600Z"
    }
   },
   "outputs": [],
   "source": [
    "# Phase 2: Power plant auction - create the power plant market\n",
    "\n",
    "# We ask the user to tell us the costs of the current power plants in the market:\n",
    "listOfPowerPlants = createMarket(step)"
   ]
  },
  {
   "cell_type": "code",
   "execution_count": null,
   "id": "55fa09fa3ddbf334",
   "metadata": {
    "ExecuteTime": {
     "end_time": "2023-11-03T21:16:20.211471100Z",
     "start_time": "2023-11-03T21:16:20.176824100Z"
    }
   },
   "outputs": [],
   "source": [
    "\n",
    "power_plants = PowerPlant.updatePowerPlantMarket(user_name, user_password, listOfPowerPlants)\n",
    "\n",
    "# We print some details to see what we have got.\n",
    "print(listOfPowerPlants)\n",
    "print(power_plants[1])\n"
   ]
  },
  {
   "cell_type": "code",
   "execution_count": null,
   "id": "f9cb72fcd211bbfc",
   "metadata": {
    "ExecuteTime": {
     "end_time": "2023-11-03T22:04:18.005406700Z",
     "start_time": "2023-11-03T22:04:08.905703500Z"
    }
   },
   "outputs": [],
   "source": [
    "# Now we will bid on some power plants\n",
    "# We will start with the robot rule 'second smallest number'\n",
    "\n",
    "# If I have a mix of 'print' and 'input' messages, the printed messages appear below this block, while the input\n",
    "# messages appear in a box. This is confusing and hides some of the information I am trying to communicate.\n",
    "# BUT when I view the Jypter notebook as a webpage, that problem goes away....\n",
    "\n",
    "# The robot will ask if it is their turn.\n",
    "myTurn = input(\"Is it my turn to choose a power plant to bid on? Y or N?\")\n",
    "\n",
    "didIbuyYet = \"n\"\n",
    "\n",
    "# If it is step 1 or 2, we need to split the existing market into the current and future market.\n",
    "# If it is step 3, then all 6 power plants are in the current market\n",
    "# Only the current market is of interest to the robot.\n",
    "\n",
    "def createCurrentMarket(listOfPowerPlants):    \n",
    "    if step == 3:\n",
    "        currentMarket = listOfPowerPlants\n",
    "    else:\n",
    "        listOfPowerPlants.sort()\n",
    "        currentMarket = listOfPowerPlants[:-4]\n",
    "        \n",
    "    return currentMarket\n",
    "\n",
    "currentMarket = createCurrentMarket(listOfPowerPlants)\n",
    "print(f\"The current market is {currentMarket}\")\n",
    "\n",
    "# I should put in a comment as to why I am doing this here.\n",
    "# What am I doing here????\n",
    "# I don't think I need this - but I will just comment it out.\n",
    "# currentMarketDetails = PowerPlant.updatePowerPlantMarket(user_name, user_password, currentMarket)\n",
    "\n",
    "# If it is not the robot's turn to choose, then for this robot we just need to update\n",
    "# the market. For other versions, we will need to check what power plant is being bid on\n",
    "# and what the bids are - but that is for later on.\n",
    "\n",
    "while didIbuyYet == 'n':\n",
    "\n",
    "    while myTurn.lower() == \"n\":\n",
    "        boughtPowerPlant = input(\"I won't bid, so just tell me which power plant was bought. \")\n",
    "        listOfPowerPlants.remove(int(boughtPowerPlant))\n",
    "        # This code is repeated in the block below, so we could hive it off as a function\n",
    "        # when we refactor.\n",
    "        newPowerPlant = int(input(\"What is the cost of the new power plant you have drawn? \"))\n",
    "        listOfPowerPlants.append(newPowerPlant)\n",
    "        currentMarket = createCurrentMarket(listOfPowerPlants)\n",
    "        print(f\"Power plant {newPowerPlant} was drawn and the current market is {currentMarket}\")\n",
    "        myTurn = input(\"Is it now my turn to choose a power plant to bid on? Y or N? \")\n",
    "    \n",
    "    # If it is the robot's turn to choose, then they will keep on choosing until they buy something.\n",
    "    # So we only care if 'myTurn' is 'n' - otherwise we just run this block.\n",
    "    choice = currentMarket[1]\n",
    "    print(f\"I bid {choice} electros for power plant {choice}.\")\n",
    "    otherBid = input(f\"Does anyone else want to bid on power plant {choice}? Y or N? \")\n",
    "    if otherBid.lower() == \"y\":\n",
    "        print(f\"Ok, I pass on {choice}.\")\n",
    "        listOfPowerPlants.remove(choice)\n",
    "        # The next 4 lines are a repeat of lines above, so we can hive it off as a function later.\n",
    "        newPowerPlant = int(input(\"What is the cost of the new power plant you have drawn? \"))\n",
    "        listOfPowerPlants.append(newPowerPlant)\n",
    "        currentMarket = createCurrentMarket(listOfPowerPlants)\n",
    "        print(f\"Power plant {newPowerPlant} was drawn and the current market is {currentMarket}\")\n",
    "    elif otherBid.lower() == \"n\":\n",
    "        didIbuyYet = 'y'\n",
    "        print(f\"Ok, I will buy power plant {choice} for {choice} electros\")\n",
    "\n",
    "    \n",
    "\n",
    "\n",
    "Robot.deductRobotMoney(robot, choice)\n",
    "print(f\"I have spent {choice} electros, and now I have {robot.money} electros.\")\n",
    "Robot.addPowerplant(robot, choice)\n",
    "print(f\"I now have these power plants: {robot.powerPlants}\")\n",
    "    \n",
    "    \n",
    "\n"
   ]
  },
  {
   "cell_type": "code",
   "execution_count": 4,
   "id": "2a9f86f093422453",
   "metadata": {
    "ExecuteTime": {
     "end_time": "2023-11-06T09:04:30.632128800Z",
     "start_time": "2023-11-06T09:04:30.615537600Z"
    }
   },
   "outputs": [
    {
     "name": "stdout",
     "output_type": "stream",
     "text": [
      "I have spent 3 electros, and now I have 97 electros.\n",
      "I now have these power plants: [3]\n",
      "I have spent 33 electros, and now I have 64 electros.\n",
      "I now have these power plants: [3, 33]\n",
      "I have spent 28 electros, and now I have 36 electros.\n",
      "I now have these power plants: [3, 33, 28]\n"
     ]
    }
   ],
   "source": [
    "# For testing purposes, let's populate the robot's powerplant list without doing the above tasks.\n",
    "robot.powerPlants = []\n",
    "robot.money = 100\n",
    "\n",
    "examplePowerPlants = (3, 33, 28)\n",
    "\n",
    "for choice in examplePowerPlants:\n",
    "    Robot.deductRobotMoney(robot, choice)\n",
    "    print(f\"I have spent {choice} electros, and now I have {robot.money} electros.\")\n",
    "    Robot.addPowerplant(robot, choice)\n",
    "    print(f\"I now have these power plants: {robot.powerPlants}\")\n"
   ]
  },
  {
   "cell_type": "code",
   "execution_count": 5,
   "id": "da6c14deb1122e48",
   "metadata": {
    "ExecuteTime": {
     "end_time": "2023-11-06T09:04:31.423421300Z",
     "start_time": "2023-11-06T09:04:30.765945Z"
    }
   },
   "outputs": [
    {
     "name": "stdout",
     "output_type": "stream",
     "text": [
      "MySQL Database connection successful\n",
      "Cost: 3, Type: Coal, Resource: coal, Resource2: None, PowerCost: 1, CitiesPowered: 1\n",
      "Cost: 33, Type: Garbage, Resource: garbage, Resource2: None, PowerCost: 2, CitiesPowered: 5\n",
      "Cost: 28, Type: Coal, Resource: coal, Resource2: None, PowerCost: 3, CitiesPowered: 5\n",
      "The shopping basket has: {'coal': 4, 'oil': 0, 'garbage': 2, 'uranium': 0}\n"
     ]
    }
   ],
   "source": [
    "# Now that the robot has a power plant, it needs to decide what resources to buy.\n",
    "# For now it will just buy basic resources to power the power plant for 1 turn.\n",
    "# It needs to know:\n",
    "# What is the price point of all the resources\n",
    "# What resources it already has\n",
    "\n",
    "# if there are x resources of type y, then the price of the next resource is a.\n",
    "# if I organise it that way, then each time the robot buys 1 resource, we need to check\n",
    "# the price of the next piece of resource.\n",
    "# I might change that later - so let's make a separate function that is called\n",
    "# to get the price of the resource.\n",
    "\n",
    "# Deciding what the robot needs to buy:\n",
    "# We will start with a robot that only buys the basic requirements for \n",
    "# the power plants they have - so they need to know:\n",
    "# what resources do their power plants need?\n",
    "# what resources do they have at the moment?\n",
    "\n",
    "# function - get info about the resources their power plants need\n",
    "\n",
    "currentRobotPowerPlants = PowerPlant.updateRobotPowerPlants(user_name, user_password, robot.powerPlants)\n",
    "\n",
    "for x in currentRobotPowerPlants:\n",
    "    print(str(x))\n",
    "\n",
    "# Let's work out how much of each resource we want to buy\n",
    "# Identify the type of resource and how many are needed.\n",
    "# create a shopping basket that has each resource type and 0 for each value\n",
    "\n",
    "shoppingBasket = {'coal': 0, 'oil': 0, 'garbage': 0, 'uranium': 0}\n",
    "\n",
    "for x in currentRobotPowerPlants:\n",
    "    try:\n",
    "        shoppingBasket[getattr(x, 'resource')] += getattr(x, 'powerCost')\n",
    "    except KeyError:\n",
    "        # Green power plants do not have a 'resource', so they return an error\n",
    "        print(f\"Power plant {getattr(x, 'cost')} does not need any resources.\")\n",
    "        \n",
    "print(f\"The shopping basket has: {shoppingBasket}\")\n"
   ]
  },
  {
   "cell_type": "code",
   "execution_count": 18,
   "id": "915ca87f525808ba",
   "metadata": {
    "scrolled": true
   },
   "outputs": [
    {
     "name": "stdout",
     "output_type": "stream",
     "text": [
      "The current resource market is: Coal 21; Oil 16; Garbage 9; Uranium 3.\n",
      "MySQL Database connection successful\n",
      "{'coal': {1: 8, 2: 8, 3: 8, 4: 7, 5: 7, 6: 7, 7: 6, 8: 6, 9: 6, 10: 5, 11: 5, 12: 5, 13: 4, 14: 4, 15: 4, 16: 3, 17: 3, 18: 3, 19: 2, 20: 2, 21: 2, 22: 1, 23: 1, 24: 1}, 'oil': {1: 8, 2: 8, 3: 8, 4: 7, 5: 7, 6: 7, 7: 6, 8: 6, 9: 6, 10: 5, 11: 5, 12: 5, 13: 4, 14: 4, 15: 4, 16: 3, 17: 3, 18: 3, 19: 2, 20: 2, 21: 2, 22: 1, 23: 1, 24: 1}, 'garbage': {1: 8, 2: 8, 3: 8, 4: 7, 5: 7, 6: 7, 7: 6, 8: 6, 9: 6, 10: 5, 11: 5, 12: 5, 13: 4, 14: 4, 15: 4, 16: 3, 17: 3, 18: 3, 19: 2, 20: 2, 21: 2, 22: 1, 23: 1, 24: 1}, 'uranium': {1: 16, 2: 14, 3: 12, 4: 10, 5: 8, 6: 7, 7: 6, 8: 5, 9: 4, 10: 3, 11: 2, 12: 1}}\n"
     ]
    }
   ],
   "source": [
    "# The Japan map starts with coal 2 Elektro, oil 4 Elektro, garbage 6 Elektro and uranium 12 Elektro\n",
    "# So coal = 21; oil = 16; garbage = 9; uranium =3\n",
    "\n",
    "currentResourceMarket = resourceMarket(coal = 21, oil = 16, garbage = 9, uranium = 3)\n",
    "\n",
    "print(currentResourceMarket)\n",
    "\n",
    "# it will need to have a method for determining the cost of the next resource\n",
    "# or perhaps a way to calculate how much buying x pieces of a resource would cost\n",
    "# (because that will help the robot in deciding what to buy)\n",
    "\n",
    "# Because we are not tracking what resources the other players are buying, we should \n",
    "# ask the player to tell us the current state of the resourceMarket at the \n",
    "# point when the robot needs to buy resources. We will ask what the current price is, and \n",
    "# how many resources in that bracket - to avoid the player having to count everything.\n",
    "\n",
    "connection = create_db_connection(\"localhost\", user_name, user_password, \"robots\")\n",
    "\n",
    "japanResourceMarket = {}\n",
    "resources = ['coal', 'oil', 'garbage', 'uranium']\n",
    "\n",
    "for x in resources:\n",
    "    query = f\"SELECT * FROM {x}\"\n",
    "    result = read_query(connection, query)\n",
    "    japanResourceMarket[x] = dict(result)\n",
    "\n",
    "print(japanResourceMarket)\n"
   ]
  },
  {
   "cell_type": "code",
   "execution_count": 8,
   "id": "780bcb31",
   "metadata": {},
   "outputs": [
    {
     "name": "stdout",
     "output_type": "stream",
     "text": [
      "My shopping basket contains {'coal': 4, 'oil': 0, 'garbage': 2, 'uranium': 0}.\n",
      "My shopping basket will cost 21 in total\n"
     ]
    }
   ],
   "source": [
    "# How much will 3 pieces of coal cost me?\n",
    "\n",
    "def multipleResourceCost(resource, number, currentResourceMarket):\n",
    "    try:\n",
    "        placeMarker = getattr(currentResourceMarket, resource)\n",
    "    except TypeError:\n",
    "        # This occurs when this function tries to get the resources that\n",
    "        # a green powerplant needs. As it doesn't need any resources, we\n",
    "        # will return 0\n",
    "        print(\"Green power plants don't use resources.\")\n",
    "        return 0\n",
    "    cost = 0\n",
    "    while number > 0:\n",
    "        cost += japanResourceMarket[resource][placeMarker]\n",
    "        placeMarker -= 1\n",
    "        number -= 1\n",
    "    return cost\n",
    "\n",
    "def totalBasketCost(shoppingBasket, currentResourceMarket):\n",
    "    # I have specified the 4 resources because the basket may also include wind\n",
    "    # which I don't want to try to check on the resource market for.\n",
    "    resources = ['coal', 'oil', 'garbage', 'uranium']\n",
    "    totalCost = 0\n",
    "    for resource in resources:\n",
    "        number = shoppingBasket[resource]\n",
    "        totalCost += multipleResourceCost(resource, number, currentResourceMarket)\n",
    "    return totalCost\n",
    "\n",
    "totalShoppingBasketCost = totalBasketCost(shoppingBasket, currentResourceMarket)\n",
    "\n",
    "print(f\"My shopping basket contains {shoppingBasket}.\")\n",
    "print(f\"My shopping basket will cost {totalShoppingBasketCost} in total\")\n",
    "    "
   ]
  },
  {
   "cell_type": "code",
   "execution_count": null,
   "id": "35822584",
   "metadata": {},
   "outputs": [],
   "source": [
    "# Now we have to decide if we will buy the resources or not. Let's start with 'yes'\n",
    "\n",
    "if totalShoppingBasketCost < robot.money:\n",
    "    Robot.deductRobotMoney(robot, totalShoppingBasketCost)\n",
    "    Robot.addResources(robot, shoppingBasket)\n",
    "# else:\n",
    "    # Now we need to decide what resources to take out of the basket.\n",
    "    # First we decide which resources will power the most cities.\n",
    "    # Note - this will become more complicated when we have resources left over\n",
    "    # from previous rounds....\n",
    "    # This is a sorting algorithm\n",
    "    \n",
    "    \n",
    "    \n",
    "# Because we are only updating the resource market just before the robot\n",
    "# buys resources, we are not going to try to track the state of the resource\n",
    "# market. The human players can do that.\n",
    "print(f\"I have bought these resources: {shoppingBasket}. Please remove them from the resource market.\")\n",
    "\n",
    "# We are not going to tell the human players how to distribute those resources on the power plant cards.\n",
    "# The human players can do that themselves.\n",
    "print(f\"My resources are now {robot.resources}\")\n",
    "print(f\"My money is now {robot.money}\")"
   ]
  },
  {
   "cell_type": "code",
   "execution_count": 19,
   "id": "a4427777",
   "metadata": {},
   "outputs": [
    {
     "name": "stdout",
     "output_type": "stream",
     "text": [
      "The cost of each power plant is: [{'cost': 3, 'powerCost': 1, 'resourceCost': 2, 'cities': 1, 'resource': 'coal'}, {'cost': 33, 'powerCost': 2, 'resourceCost': 12, 'cities': 5, 'resource': 'garbage'}, {'cost': 28, 'powerCost': 3, 'resourceCost': 6, 'cities': 5, 'resource': 'coal'}]\n",
      "\n",
      "The cost of each remaining power plant is: [{'cost': 3, 'powerCost': 1, 'resourceCost': 2, 'cities': 1, 'resource': 'coal'}, {'cost': 33, 'powerCost': 2, 'resourceCost': 12, 'cities': 5, 'resource': 'garbage'}]\n",
      "The chosen power plants are: [{'cost': 28, 'powerCost': 3, 'resourceCost': 6, 'cities': 5, 'resource': 'coal'}]\n",
      "The current resource market is: The current resource market is: Coal 18; Oil 16; Garbage 9; Uranium 3.\n",
      "The remaining money is: 13\n",
      "\n",
      "The cost of each remaining power plant is: [{'cost': 3, 'powerCost': 1, 'resourceCost': 3, 'cities': 1, 'resource': 'coal'}]\n",
      "The chosen power plants are: [{'cost': 28, 'powerCost': 3, 'resourceCost': 6, 'cities': 5, 'resource': 'coal'}, {'cost': 33, 'powerCost': 2, 'resourceCost': 12, 'cities': 5, 'resource': 'garbage'}]\n",
      "The current resource market is: The current resource market is: Coal 18; Oil 16; Garbage 7; Uranium 3.\n",
      "The remaining money is: 1\n",
      "\n",
      "The cost of each remaining power plant is: []\n",
      "The chosen power plants are: [{'cost': 28, 'powerCost': 3, 'resourceCost': 6, 'cities': 5, 'resource': 'coal'}, {'cost': 33, 'powerCost': 2, 'resourceCost': 12, 'cities': 5, 'resource': 'garbage'}]\n",
      "The current resource market is: The current resource market is: Coal 18; Oil 16; Garbage 7; Uranium 3.\n",
      "The remaining money is: 1\n",
      "\n",
      "The sorted list is: []\n",
      "The chosen power plants are: [{'cost': 28, 'powerCost': 3, 'resourceCost': 6, 'cities': 5, 'resource': 'coal'}, {'cost': 33, 'powerCost': 2, 'resourceCost': 12, 'cities': 5, 'resource': 'garbage'}]\n",
      "The current resource market is: The current resource market is: Coal 18; Oil 16; Garbage 7; Uranium 3.\n",
      "The remaining money is: 1\n"
     ]
    }
   ],
   "source": [
    "testMoney = 19\n",
    "\n",
    "def workOutResourceCost(currentRobotPowerPlants):\n",
    "    # we want to work out the cost of each power plant\n",
    "    resourceCostList = []\n",
    "    for x in currentRobotPowerPlants:\n",
    "        resourceCost = multipleResourceCost(getattr(x, 'resource'), getattr(x, 'powerCost'), currentResourceMarket)\n",
    "        resourceCostList.append({'cost': getattr(x, 'cost'), 'powerCost': getattr(x, 'powerCost'), 'resourceCost': resourceCost, 'cities': getattr(x, 'citiesPowered'), 'resource': getattr(x, 'resource')}) \n",
    "    return resourceCostList\n",
    "\n",
    "\n",
    "def removeGreenPlants(resourceCostList):\n",
    "    chosenPowerPlants = []\n",
    "    plants_to_remove = []\n",
    "\n",
    "    # remove green power plants with a resource cost of 0 so that we don't divide by 0\n",
    "    for i, plant in enumerate(resourceCostList):\n",
    "         if plant['resourceCost'] == 0:\n",
    "            chosenPowerPlants.append(plant)\n",
    "            plants_to_remove.append(i)\n",
    "\n",
    "    for index in reversed(plants_to_remove):\n",
    "        resourceCostList.pop(index)\n",
    "    return chosenPowerPlants, resourceCostList\n",
    "        \n",
    "\n",
    "def sortPlantsByResourceCost(resourceCostList):\n",
    "    sortedResourceCostList = sorted(resourceCostList, key=lambda plant: plant['cities'] / plant['resourceCost'], reverse=True)\n",
    "    return sortedResourceCostList\n",
    "\n",
    "# TODO: amend 'testMoney' in this function to call the money the robot currently has\n",
    "def checkIfCanBuyResources(amendedResourceCostList, chosenPowerPlants, testMoney, currentResourceMarket):    \n",
    "    plant = amendedResourceCostList[0]\n",
    "    # add this power plant to our chosen list if we can afford the resources\n",
    "    if plant['resourceCost'] <= testMoney:\n",
    "        chosenPowerPlants.append(plant)\n",
    "        testMoney -= plant['resourceCost']\n",
    "        # We update the currentResourceMarket with a class method\n",
    "        # that uses the resource key word to adjust the right resource.\n",
    "        # 'powerCost' = the amount of that resource the power plant spends\n",
    "        resourceMarket.deductResource(currentResourceMarket, plant['powerCost'], plant['resource'])\n",
    "    # remove this power plant from the list we are checking\n",
    "    amendedResourceCostList.pop(0)\n",
    "    return amendedResourceCostList, chosenPowerPlants, testMoney, currentResourceMarket\n",
    "\n",
    "\n",
    "### The steps for the robot to decide what resources to buy:\n",
    "\n",
    "### STEP 1: get a list with resource costs for the power plants.\n",
    "\n",
    "resourceCostList = workOutResourceCost(currentRobotPowerPlants)\n",
    "        \n",
    "print(f\"The cost of each power plant is: {resourceCostList}\")      \n",
    "\n",
    "### STEP 2: remove any green power plants from that list.\n",
    "\n",
    "chosenPowerPlants, amendedResourceCostList = removeGreenPlants(resourceCostList)\n",
    "\n",
    "### STEP 3: The while loop\n",
    "\n",
    "while len(amendedResourceCostList) > 0:\n",
    "    # We start by amending the resource costs for the remaining power plants - this doesn't matter the first time\n",
    "    # but it is a short list and won't take much time.\n",
    "    for plant in amendedResourceCostList: \n",
    "        plant['resourceCost'] = multipleResourceCost(plant['resource'], plant['powerCost'], currentResourceMarket)\n",
    "    \n",
    "    # Sort the remaining power plants by cost to buy the resources they need\n",
    "    amendedResourceCostList = sortPlantsByResourceCost(amendedResourceCostList)\n",
    "    \n",
    "    # check the first power plant on the list, and remove it\n",
    "    # we also amend the currentResourceMarket and the testMoney levels\n",
    "    amendedResourceCostList, chosenPowerPlants, testMoney, currentResourceMarket = checkIfCanBuyResources(amendedResourceCostList, chosenPowerPlants, testMoney, currentResourceMarket)\n",
    "    \n",
    "    print(f\"\\nThe cost of each remaining power plant is: {amendedResourceCostList}\") \n",
    "    print(f\"The chosen power plants are: {chosenPowerPlants}\")\n",
    "    print(f\"The current resource market is: {currentResourceMarket}\")\n",
    "    print(f\"The remaining money is: {testMoney}\")\n",
    "\n",
    "\n",
    "print(f\"\\nThe sorted list is: {amendedResourceCostList}\")\n",
    "print(f\"The chosen power plants are: {chosenPowerPlants}\")\n",
    "print(f\"The current resource market is: {currentResourceMarket}\")\n",
    "print(f\"The remaining money is: {testMoney}\")\n",
    "\n"
   ]
  },
  {
   "cell_type": "code",
   "execution_count": null,
   "id": "8f9d624d",
   "metadata": {},
   "outputs": [],
   "source": []
  }
 ],
 "metadata": {
  "kernelspec": {
   "display_name": "Python 3 (ipykernel)",
   "language": "python",
   "name": "python3"
  },
  "language_info": {
   "codemirror_mode": {
    "name": "ipython",
    "version": 3
   },
   "file_extension": ".py",
   "mimetype": "text/x-python",
   "name": "python",
   "nbconvert_exporter": "python",
   "pygments_lexer": "ipython3",
   "version": "3.11.5"
  }
 },
 "nbformat": 4,
 "nbformat_minor": 5
}
